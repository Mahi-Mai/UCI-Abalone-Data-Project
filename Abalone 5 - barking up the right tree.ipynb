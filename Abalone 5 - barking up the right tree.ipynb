{
 "cells": [
  {
   "cell_type": "markdown",
   "metadata": {},
   "source": [
    "# AAAHHAHAHAHHHAHAHAA.\n",
    "\n",
    "Hahaha.\n",
    "\n",
    "Okay yeah, so I shouldn't be using a random forest model, I should be using a regression flavored, normal decision tree.  HERP.  Alright.  Well, I did some interesting things anyway, no regrets.  \n",
    "\n",
    "-Won't have to worry about scaling.\n",
    "-I can test w/ and w/o 'sex' column.\n",
    "-Plenty of parameters to tune, and beware of overfitting.\n",
    "-Use fixed version of X and y."
   ]
  },
  {
   "cell_type": "code",
   "execution_count": 1,
   "metadata": {
    "collapsed": true
   },
   "outputs": [],
   "source": [
    "import pandas as pd\n",
    "import numpy as np\n",
    "import matplotlib.pyplot as plt\n",
    "from sklearn.tree import DecisionTreeRegressor\n",
    "from sklearn.model_selection import train_test_split\n",
    "\n",
    "from sklearn.decomposition import PCA\n",
    "from sklearn.preprocessing import StandardScaler\n",
    "\n",
    "%matplotlib inline\n",
    "\n",
    "#Create dataframe\n",
    "df = pd.read_csv('abalone.data')\n",
    "df.columns = ['sex','length','diameter','height','whole weight','shucked weight','viscera weight','shell weight','rings']\n",
    "\n",
    "df = pd.get_dummies(df, columns = ['sex'])\n",
    "#df.drop('sex', axis=1, inplace=True)\n",
    "\n",
    "y = df['rings']\n",
    "X = df.drop('rings', axis=1)"
   ]
  },
  {
   "cell_type": "markdown",
   "metadata": {},
   "source": [
    "Lessons from Documentation\n",
    "\n",
    "max_depth controls fit.  Higher depth can lead to overfitting.\n",
    "can try min_samples_leaf too."
   ]
  },
  {
   "cell_type": "code",
   "execution_count": 22,
   "metadata": {},
   "outputs": [
    {
     "name": "stdout",
     "output_type": "stream",
     "text": [
      "0.110976782323\n"
     ]
    }
   ],
   "source": [
    "#basics\n",
    "\n",
    "regressor = DecisionTreeRegressor(random_state=0)\n",
    "\n",
    "#So I've been farting up this line the whole time that's comforting.\n",
    "#I want to use this train/test set the rest of the notebook.\n",
    "X_train, X_test, y_train, y_test = train_test_split(X, y, test_size=0.2, random_state=0)\n",
    "\n",
    "reg1 = regressor.fit(X_train, y_train)\n",
    "score = reg1.score(X_test, y_test)\n",
    "print(score)"
   ]
  },
  {
   "cell_type": "code",
   "execution_count": 16,
   "metadata": {},
   "outputs": [],
   "source": [
    "def regTree(X_train, X_test, y_train, y_test, depth, min_samples_split=2, min_samples_leaf=1):\n",
    "\n",
    "    model = DecisionTreeRegressor(max_depth=depth, min_samples_split=min_samples_split, min_samples_leaf=min_samples_leaf, random_state=0)\n",
    "    score = model.fit(X_train, y_train).score(X_test, y_test)\n",
    "    \n",
    "    return score"
   ]
  },
  {
   "cell_type": "code",
   "execution_count": 10,
   "metadata": {},
   "outputs": [
    {
     "data": {
      "image/png": "[encoded data removed]",
      "text/plain": [
       "<matplotlib.figure.Figure at 0x1dbafa34b70>"
      ]
     },
     "metadata": {},
     "output_type": "display_data"
    }
   ],
   "source": [
    "#testing max_depth\n",
    "scores=[]\n",
    "depths= list(range(1,15,1))\n",
    "\n",
    "for depth in depths:\n",
    "    score = regTree(X_train, X_test, y_train, y_test, depth)\n",
    "    scores.append(score)\n",
    "\n",
    "plt.scatter(x=depths, y=scores)\n",
    "plt.suptitle('Depth vs Score')\n",
    "plt.xlabel('max_depth')\n",
    "plt.ylabel('score')\n",
    "plt.show()"
   ]
  },
  {
   "cell_type": "code",
   "execution_count": 20,
   "metadata": {},
   "outputs": [
    {
     "data": {
      "image/png": "[encoded data removed]",
      "text/plain": [
       "<matplotlib.figure.Figure at 0x1dbafbbecc0>"
      ]
     },
     "metadata": {},
     "output_type": "display_data"
    }
   ],
   "source": [
    "#Well, best depth looks like 5, so we'll stick with that for further testing.\n",
    "#Testing min_samples_split \n",
    "\n",
    "split_scores=[]\n",
    "splits= list(range(5,200,5))\n",
    "\n",
    "for split in splits:\n",
    "    score = regTree(X_train, X_test, y_train, y_test, 5, min_samples_split=split)\n",
    "    split_scores.append(score)\n",
    "\n",
    "plt.scatter(x=splits, y=split_scores)\n",
    "plt.suptitle('Split vs Score')\n",
    "plt.xlabel('min_samples_split')\n",
    "plt.ylabel('score')\n",
    "plt.show()"
   ]
  },
  {
   "cell_type": "code",
   "execution_count": 21,
   "metadata": {},
   "outputs": [
    {
     "data": {
      "image/png": "[encoded data removed]",
      "text/plain": [
       "<matplotlib.figure.Figure at 0x1dbafd701d0>"
      ]
     },
     "metadata": {},
     "output_type": "display_data"
    }
   ],
   "source": [
    "#Interesting.  Let's keep Split at default for now.\n",
    "#Testing min_samples_leaf\n",
    "\n",
    "#Well, best depth looks like 5, so we'll stick with that for further testing.\n",
    "#Testing min_samples_split \n",
    "\n",
    "leaf_scores=[]\n",
    "leaves = list(range(5,200,5))\n",
    "\n",
    "for leaf in leaves:\n",
    "    score = regTree(X_train, X_test, y_train, y_test, 5, min_samples_leaf=leaf)\n",
    "    leaf_scores.append(score)\n",
    "\n",
    "plt.scatter(x=leaves, y=leaf_scores)\n",
    "plt.suptitle('Leaf vs Score')\n",
    "plt.xlabel('min_samples_leaf')\n",
    "plt.ylabel('score')\n",
    "plt.show()"
   ]
  },
  {
   "cell_type": "code",
   "execution_count": null,
   "metadata": {
    "collapsed": true
   },
   "outputs": [],
   "source": []
  }
 ],
 "metadata": {
  "kernelspec": {
   "display_name": "Python 3",
   "language": "python",
   "name": "python3"
  },
  "language_info": {
   "codemirror_mode": {
    "name": "ipython",
    "version": 3
   },
   "file_extension": ".py",
   "mimetype": "text/x-python",
   "name": "python",
   "nbconvert_exporter": "python",
   "pygments_lexer": "ipython3",
   "version": "3.6.1"
  }
 },
 "nbformat": 4,
 "nbformat_minor": 2
}
