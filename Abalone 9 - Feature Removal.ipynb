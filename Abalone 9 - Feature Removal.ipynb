{
 "cells": [
  {
   "cell_type": "code",
   "execution_count": 28,
   "metadata": {
    "collapsed": true
   },
   "outputs": [],
   "source": [
    "import pandas as pd\n",
    "import numpy as np\n",
    "import matplotlib.pyplot as plt\n",
    "from sklearn.tree import DecisionTreeRegressor\n",
    "from sklearn.model_selection import train_test_split\n",
    "\n",
    "from sklearn.decomposition import PCA\n",
    "from sklearn.preprocessing import StandardScaler\n",
    "\n",
    "%matplotlib inline\n",
    "\n",
    "#Create dataframe\n",
    "df = pd.read_csv('abalone.data')\n",
    "df.columns = ['sex','length','diameter','height','whole weight','shucked weight','viscera weight','shell weight','rings']\n",
    "\n",
    "dfd = pd.get_dummies(df, columns = ['sex'])"
   ]
  },
  {
   "cell_type": "code",
   "execution_count": 29,
   "metadata": {},
   "outputs": [
    {
     "data": {
      "text/plain": [
       "Index(['sex', 'length', 'diameter', 'height', 'whole weight', 'shucked weight',\n",
       "       'viscera weight', 'shell weight', 'rings'],\n",
       "      dtype='object')"
      ]
     },
     "execution_count": 29,
     "metadata": {},
     "output_type": "execute_result"
    }
   ],
   "source": [
    "df.columns"
   ]
  },
  {
   "cell_type": "code",
   "execution_count": 30,
   "metadata": {},
   "outputs": [
    {
     "data": {
      "text/html": [
       "<div>\n",
       "<style>\n",
       "    .dataframe thead tr:only-child th {\n",
       "        text-align: right;\n",
       "    }\n",
       "\n",
       "    .dataframe thead th {\n",
       "        text-align: left;\n",
       "    }\n",
       "\n",
       "    .dataframe tbody tr th {\n",
       "        vertical-align: top;\n",
       "    }\n",
       "</style>\n",
       "<table border=\"1\" class=\"dataframe\">\n",
       "  <thead>\n",
       "    <tr style=\"text-align: right;\">\n",
       "      <th></th>\n",
       "      <th>length</th>\n",
       "      <th>diameter</th>\n",
       "      <th>height</th>\n",
       "      <th>whole weight</th>\n",
       "      <th>shucked weight</th>\n",
       "      <th>viscera weight</th>\n",
       "      <th>shell weight</th>\n",
       "      <th>rings</th>\n",
       "      <th>sex_F</th>\n",
       "      <th>sex_I</th>\n",
       "      <th>sex_M</th>\n",
       "    </tr>\n",
       "  </thead>\n",
       "  <tbody>\n",
       "    <tr>\n",
       "      <th>length</th>\n",
       "      <td>1.000000</td>\n",
       "      <td>0.986813</td>\n",
       "      <td>0.827552</td>\n",
       "      <td>0.925255</td>\n",
       "      <td>0.897905</td>\n",
       "      <td>0.903010</td>\n",
       "      <td>0.897697</td>\n",
       "      <td>0.557123</td>\n",
       "      <td>0.309602</td>\n",
       "      <td>-0.551613</td>\n",
       "      <td>0.236783</td>\n",
       "    </tr>\n",
       "    <tr>\n",
       "      <th>diameter</th>\n",
       "      <td>0.986813</td>\n",
       "      <td>1.000000</td>\n",
       "      <td>0.833705</td>\n",
       "      <td>0.925452</td>\n",
       "      <td>0.893159</td>\n",
       "      <td>0.899726</td>\n",
       "      <td>0.905328</td>\n",
       "      <td>0.575005</td>\n",
       "      <td>0.318581</td>\n",
       "      <td>-0.564431</td>\n",
       "      <td>0.240567</td>\n",
       "    </tr>\n",
       "    <tr>\n",
       "      <th>height</th>\n",
       "      <td>0.827552</td>\n",
       "      <td>0.833705</td>\n",
       "      <td>1.000000</td>\n",
       "      <td>0.819209</td>\n",
       "      <td>0.774957</td>\n",
       "      <td>0.798293</td>\n",
       "      <td>0.817326</td>\n",
       "      <td>0.558109</td>\n",
       "      <td>0.298306</td>\n",
       "      <td>-0.518828</td>\n",
       "      <td>0.215869</td>\n",
       "    </tr>\n",
       "    <tr>\n",
       "      <th>whole weight</th>\n",
       "      <td>0.925255</td>\n",
       "      <td>0.925452</td>\n",
       "      <td>0.819209</td>\n",
       "      <td>1.000000</td>\n",
       "      <td>0.969403</td>\n",
       "      <td>0.966372</td>\n",
       "      <td>0.955351</td>\n",
       "      <td>0.540818</td>\n",
       "      <td>0.299668</td>\n",
       "      <td>-0.557757</td>\n",
       "      <td>0.252305</td>\n",
       "    </tr>\n",
       "    <tr>\n",
       "      <th>shucked weight</th>\n",
       "      <td>0.897905</td>\n",
       "      <td>0.893159</td>\n",
       "      <td>0.774957</td>\n",
       "      <td>0.969403</td>\n",
       "      <td>1.000000</td>\n",
       "      <td>0.931956</td>\n",
       "      <td>0.882606</td>\n",
       "      <td>0.421256</td>\n",
       "      <td>0.263919</td>\n",
       "      <td>-0.521995</td>\n",
       "      <td>0.252048</td>\n",
       "    </tr>\n",
       "    <tr>\n",
       "      <th>viscera weight</th>\n",
       "      <td>0.903010</td>\n",
       "      <td>0.899726</td>\n",
       "      <td>0.798293</td>\n",
       "      <td>0.966372</td>\n",
       "      <td>0.931956</td>\n",
       "      <td>1.000000</td>\n",
       "      <td>0.907647</td>\n",
       "      <td>0.504274</td>\n",
       "      <td>0.308363</td>\n",
       "      <td>-0.556267</td>\n",
       "      <td>0.242489</td>\n",
       "    </tr>\n",
       "    <tr>\n",
       "      <th>shell weight</th>\n",
       "      <td>0.897697</td>\n",
       "      <td>0.905328</td>\n",
       "      <td>0.817326</td>\n",
       "      <td>0.955351</td>\n",
       "      <td>0.882606</td>\n",
       "      <td>0.907647</td>\n",
       "      <td>1.000000</td>\n",
       "      <td>0.628031</td>\n",
       "      <td>0.306248</td>\n",
       "      <td>-0.547116</td>\n",
       "      <td>0.235652</td>\n",
       "    </tr>\n",
       "    <tr>\n",
       "      <th>rings</th>\n",
       "      <td>0.557123</td>\n",
       "      <td>0.575005</td>\n",
       "      <td>0.558109</td>\n",
       "      <td>0.540818</td>\n",
       "      <td>0.421256</td>\n",
       "      <td>0.504274</td>\n",
       "      <td>0.628031</td>\n",
       "      <td>1.000000</td>\n",
       "      <td>0.250620</td>\n",
       "      <td>-0.435958</td>\n",
       "      <td>0.181426</td>\n",
       "    </tr>\n",
       "    <tr>\n",
       "      <th>sex_F</th>\n",
       "      <td>0.309602</td>\n",
       "      <td>0.318581</td>\n",
       "      <td>0.298306</td>\n",
       "      <td>0.299668</td>\n",
       "      <td>0.263919</td>\n",
       "      <td>0.308363</td>\n",
       "      <td>0.306248</td>\n",
       "      <td>0.250620</td>\n",
       "      <td>1.000000</td>\n",
       "      <td>-0.464461</td>\n",
       "      <td>-0.512449</td>\n",
       "    </tr>\n",
       "    <tr>\n",
       "      <th>sex_I</th>\n",
       "      <td>-0.551613</td>\n",
       "      <td>-0.564431</td>\n",
       "      <td>-0.518828</td>\n",
       "      <td>-0.557757</td>\n",
       "      <td>-0.521995</td>\n",
       "      <td>-0.556267</td>\n",
       "      <td>-0.547116</td>\n",
       "      <td>-0.435958</td>\n",
       "      <td>-0.464461</td>\n",
       "      <td>1.000000</td>\n",
       "      <td>-0.522462</td>\n",
       "    </tr>\n",
       "    <tr>\n",
       "      <th>sex_M</th>\n",
       "      <td>0.236783</td>\n",
       "      <td>0.240567</td>\n",
       "      <td>0.215869</td>\n",
       "      <td>0.252305</td>\n",
       "      <td>0.252048</td>\n",
       "      <td>0.242489</td>\n",
       "      <td>0.235652</td>\n",
       "      <td>0.181426</td>\n",
       "      <td>-0.512449</td>\n",
       "      <td>-0.522462</td>\n",
       "      <td>1.000000</td>\n",
       "    </tr>\n",
       "  </tbody>\n",
       "</table>\n",
       "</div>"
      ],
      "text/plain": [
       "                  length  diameter    height  whole weight  shucked weight  \\\n",
       "length          1.000000  0.986813  0.827552      0.925255        0.897905   \n",
       "diameter        0.986813  1.000000  0.833705      0.925452        0.893159   \n",
       "height          0.827552  0.833705  1.000000      0.819209        0.774957   \n",
       "whole weight    0.925255  0.925452  0.819209      1.000000        0.969403   \n",
       "shucked weight  0.897905  0.893159  0.774957      0.969403        1.000000   \n",
       "viscera weight  0.903010  0.899726  0.798293      0.966372        0.931956   \n",
       "shell weight    0.897697  0.905328  0.817326      0.955351        0.882606   \n",
       "rings           0.557123  0.575005  0.558109      0.540818        0.421256   \n",
       "sex_F           0.309602  0.318581  0.298306      0.299668        0.263919   \n",
       "sex_I          -0.551613 -0.564431 -0.518828     -0.557757       -0.521995   \n",
       "sex_M           0.236783  0.240567  0.215869      0.252305        0.252048   \n",
       "\n",
       "                viscera weight  shell weight     rings     sex_F     sex_I  \\\n",
       "length                0.903010      0.897697  0.557123  0.309602 -0.551613   \n",
       "diameter              0.899726      0.905328  0.575005  0.318581 -0.564431   \n",
       "height                0.798293      0.817326  0.558109  0.298306 -0.518828   \n",
       "whole weight          0.966372      0.955351  0.540818  0.299668 -0.557757   \n",
       "shucked weight        0.931956      0.882606  0.421256  0.263919 -0.521995   \n",
       "viscera weight        1.000000      0.907647  0.504274  0.308363 -0.556267   \n",
       "shell weight          0.907647      1.000000  0.628031  0.306248 -0.547116   \n",
       "rings                 0.504274      0.628031  1.000000  0.250620 -0.435958   \n",
       "sex_F                 0.308363      0.306248  0.250620  1.000000 -0.464461   \n",
       "sex_I                -0.556267     -0.547116 -0.435958 -0.464461  1.000000   \n",
       "sex_M                 0.242489      0.235652  0.181426 -0.512449 -0.522462   \n",
       "\n",
       "                   sex_M  \n",
       "length          0.236783  \n",
       "diameter        0.240567  \n",
       "height          0.215869  \n",
       "whole weight    0.252305  \n",
       "shucked weight  0.252048  \n",
       "viscera weight  0.242489  \n",
       "shell weight    0.235652  \n",
       "rings           0.181426  \n",
       "sex_F          -0.512449  \n",
       "sex_I          -0.522462  \n",
       "sex_M           1.000000  "
      ]
     },
     "execution_count": 30,
     "metadata": {},
     "output_type": "execute_result"
    }
   ],
   "source": [
    "dfd.corr()"
   ]
  },
  {
   "cell_type": "code",
   "execution_count": 31,
   "metadata": {},
   "outputs": [
    {
     "data": {
      "text/plain": [
       "length            float64\n",
       "diameter          float64\n",
       "height            float64\n",
       "whole weight      float64\n",
       "shucked weight    float64\n",
       "viscera weight    float64\n",
       "shell weight      float64\n",
       "rings               int64\n",
       "sex_F               uint8\n",
       "sex_I               uint8\n",
       "sex_M               uint8\n",
       "dtype: object"
      ]
     },
     "execution_count": 31,
     "metadata": {},
     "output_type": "execute_result"
    }
   ],
   "source": [
    "dfd.dtypes"
   ]
  },
  {
   "cell_type": "code",
   "execution_count": 32,
   "metadata": {},
   "outputs": [
    {
     "data": {
      "image/png": "[encoded data removed]",
      "text/plain": [
       "<matplotlib.figure.Figure at 0x12d9ca16fd0>"
      ]
     },
     "metadata": {},
     "output_type": "display_data"
    },
    {
     "data": {
      "image/png": "[encoded data removed]",
      "text/plain": [
       "<matplotlib.figure.Figure at 0x12d9cb3ef28>"
      ]
     },
     "metadata": {},
     "output_type": "display_data"
    }
   ],
   "source": [
    "fig = plt.figure(figsize=(15,8))\n",
    "ax1 = fig.add_subplot(111)\n",
    "plt.imshow(dfd.corr(), cmap='hot', interpolation='nearest')\n",
    "plt.colorbar()\n",
    "plt.suptitle('Correlation heatmap with Boolean sex columns')\n",
    "labels = dfd.columns.tolist()\n",
    "ax1.set_xticks(np.arange(len(labels)))\n",
    "ax1.set_yticks(np.arange(len(labels)))\n",
    "ax1.set_xticklabels(labels,rotation=90, fontsize=10)\n",
    "ax1.set_yticklabels(labels,fontsize=10)\n",
    "plt.show()\n",
    "\n",
    "fig = plt.figure(figsize=(15,8))\n",
    "ax1 = fig.add_subplot(111)\n",
    "plt.imshow(df.corr(), cmap='hot', interpolation='nearest')\n",
    "plt.colorbar()\n",
    "plt.suptitle('Correlation heatmap without categorical variables (sex)')\n",
    "labels=df.columns.tolist()\n",
    "ax1.set_xticklabels(labels,rotation=90, fontsize=10)\n",
    "ax1.set_yticklabels(labels, fontsize=10)\n",
    "plt.show()"
   ]
  },
  {
   "cell_type": "code",
   "execution_count": 33,
   "metadata": {},
   "outputs": [
    {
     "data": {
      "text/plain": [
       "M    1527\n",
       "I    1342\n",
       "F    1307\n",
       "Name: sex, dtype: int64"
      ]
     },
     "execution_count": 33,
     "metadata": {},
     "output_type": "execute_result"
    }
   ],
   "source": [
    "#Features to keep based on histogram shape and correlation grid:  \n",
    "#length, whole weight/shell weight, height?\n",
    "#Lets try to understand the sex variables more\n",
    "\n",
    "df['sex'].value_counts()"
   ]
  },
  {
   "cell_type": "code",
   "execution_count": 34,
   "metadata": {},
   "outputs": [],
   "source": [
    "#with sex column removed\n",
    "\n",
    "df.drop('sex', axis=1, inplace=True)\n",
    "\n",
    "y = df['rings']\n",
    "X = df.drop('rings', axis=1)\n",
    "\n",
    "X_train,X_test, y_train, y_test = train_test_split(X,y, test_size=0.3, random_state=0)\n",
    "\n"
   ]
  },
  {
   "cell_type": "code",
   "execution_count": 35,
   "metadata": {},
   "outputs": [
    {
     "name": "stdout",
     "output_type": "stream",
     "text": [
      "0.490870670463\n",
      "[[ 1.          0.70135745]\n",
      " [ 0.70135745  1.        ]]\n"
     ]
    },
    {
     "data": {
      "image/png": "[encoded data removed]",
      "text/plain": [
       "<matplotlib.figure.Figure at 0x12d9c058e10>"
      ]
     },
     "metadata": {},
     "output_type": "display_data"
    }
   ],
   "source": [
    "regressor = DecisionTreeRegressor(max_depth=5, min_samples_split=35, min_samples_leaf=20, random_state=0)\n",
    "\n",
    "model = regressor.fit(X_train, y_train)\n",
    "score = model.score(X_test, y_test)\n",
    "print(score)\n",
    "print(np.corrcoef(model.predict(X_test), y_test))\n",
    "\n",
    "plt.scatter(model.predict(X_test), y_test)\n",
    "plt.suptitle('Predicted vs Actual')\n",
    "plt.xlabel('predicted')\n",
    "plt.ylabel('actual')\n",
    "plt.show()"
   ]
  },
  {
   "cell_type": "markdown",
   "metadata": {
    "collapsed": true
   },
   "source": [
    "Whelp.  Removing the sex categories sure didn't negatively impact our scores.  Let's see what else we can get rid of.\n",
    "\n",
    "WAIT.  Let's keep the juvenile column."
   ]
  },
  {
   "cell_type": "code",
   "execution_count": 37,
   "metadata": {},
   "outputs": [
    {
     "name": "stdout",
     "output_type": "stream",
     "text": [
      "0.498197068103\n",
      "[[ 1.         0.7065174]\n",
      " [ 0.7065174  1.       ]]\n"
     ]
    },
    {
     "data": {
      "image/png": "[encoded data removed]",
      "text/plain": [
       "<matplotlib.figure.Figure at 0x12d9d2cd4e0>"
      ]
     },
     "metadata": {},
     "output_type": "display_data"
    }
   ],
   "source": [
    "#drop sex_F and sex_M columns\n",
    "\n",
    "dfd.drop(['sex_F','sex_M'], axis=1, inplace=True)\n",
    "\n",
    "y = dfd['rings']\n",
    "X = dfd.drop('rings', axis=1)\n",
    "\n",
    "X_train,X_test, y_train, y_test = train_test_split(X,y, test_size=0.3, random_state=0)\n",
    "\n",
    "regressor = DecisionTreeRegressor(max_depth=5, min_samples_split=35, min_samples_leaf=20, random_state=0)\n",
    "\n",
    "model = regressor.fit(X_train, y_train)\n",
    "score = model.score(X_test, y_test)\n",
    "print(score)\n",
    "print(np.corrcoef(model.predict(X_test), y_test))\n",
    "\n",
    "plt.scatter(model.predict(X_test), y_test)\n",
    "plt.suptitle('Predicted vs Actual')\n",
    "plt.xlabel('predicted')\n",
    "plt.ylabel('actual')\n",
    "plt.show()"
   ]
  },
  {
   "cell_type": "markdown",
   "metadata": {},
   "source": [
    "An infinitesimal improvement over dropping Sex altogether.  Meh."
   ]
  },
  {
   "cell_type": "code",
   "execution_count": 38,
   "metadata": {},
   "outputs": [
    {
     "name": "stdout",
     "output_type": "stream",
     "text": [
      "0.426808341975\n",
      "[[ 1.          0.65578725]\n",
      " [ 0.65578725  1.        ]]\n"
     ]
    },
    {
     "data": {
      "image/png": "[encoded data removed]",
      "text/plain": [
       "<matplotlib.figure.Figure at 0x12d9ca1d2e8>"
      ]
     },
     "metadata": {},
     "output_type": "display_data"
    }
   ],
   "source": [
    "#Let's drop more from df. Diameter, shucked weight, and viscera weight\n",
    "\n",
    "df.drop(['diameter','shucked weight','viscera weight'], axis=1, inplace=True)\n",
    "\n",
    "y = df['rings']\n",
    "X = df.drop('rings', axis=1)\n",
    "\n",
    "X_train,X_test, y_train, y_test = train_test_split(X,y, test_size=0.3, random_state=0)\n",
    "\n",
    "regressor = DecisionTreeRegressor(max_depth=5, min_samples_split=35, min_samples_leaf=20, random_state=0)\n",
    "\n",
    "model = regressor.fit(X_train, y_train)\n",
    "score = model.score(X_test, y_test)\n",
    "print(score)\n",
    "print(np.corrcoef(model.predict(X_test), y_test))\n",
    "\n",
    "plt.scatter(model.predict(X_test), y_test)\n",
    "plt.suptitle('Predicted vs Actual')\n",
    "plt.xlabel('predicted')\n",
    "plt.ylabel('actual')\n",
    "plt.show()"
   ]
  },
  {
   "cell_type": "markdown",
   "metadata": {},
   "source": [
    "Really!  Our score went down.  Huh.  Hm.  So, one of those was actually important."
   ]
  },
  {
   "cell_type": "code",
   "execution_count": 48,
   "metadata": {
    "scrolled": true
   },
   "outputs": [
    {
     "name": "stdout",
     "output_type": "stream",
     "text": [
      "0.49807620994\n",
      "[[ 1.          0.70619693]\n",
      " [ 0.70619693  1.        ]]\n"
     ]
    },
    {
     "data": {
      "image/png": "[encoded data removed]",
      "text/plain": [
       "<matplotlib.figure.Figure at 0x12d9c662fd0>"
      ]
     },
     "metadata": {},
     "output_type": "display_data"
    },
    {
     "data": {
      "text/plain": [
       "Index(['diameter', 'shucked weight', 'shell weight', 'rings'], dtype='object')"
      ]
     },
     "execution_count": 48,
     "metadata": {},
     "output_type": "execute_result"
    }
   ],
   "source": [
    "#recreate dataframe\n",
    "df = pd.read_csv('abalone.data')\n",
    "df.columns = ['sex','length','diameter','height','whole weight','shucked weight','viscera weight','shell weight','rings']\n",
    "\n",
    "#Removing various features to see if they effect the score.\n",
    "#drop sex, viscera weight, whole weight, length, height\n",
    "\n",
    "df_R = df.drop(['sex','viscera weight', 'whole weight', 'length','height'], axis=1)\n",
    "\n",
    "y = df_R['rings']\n",
    "X = df_R.drop('rings', axis=1)\n",
    "\n",
    "X_train,X_test, y_train, y_test = train_test_split(X,y, test_size=0.3, random_state=0)\n",
    "\n",
    "regressor = DecisionTreeRegressor(max_depth=5, min_samples_split=35, min_samples_leaf=20, random_state=0)\n",
    "\n",
    "model = regressor.fit(X_train, y_train)\n",
    "score = model.score(X_test, y_test)\n",
    "print(score)\n",
    "print(np.corrcoef(model.predict(X_test), y_test))\n",
    "\n",
    "plt.scatter(model.predict(X_test), y_test)\n",
    "plt.suptitle('Predicted vs Actual')\n",
    "plt.xlabel('predicted')\n",
    "plt.ylabel('actual')\n",
    "plt.show()\n",
    "\n",
    "df_R.columns"
   ]
  },
  {
   "cell_type": "markdown",
   "metadata": {},
   "source": [
    "I tried to remove shucked weight and my score went down, so I added it back.\n",
    "\n",
    "Testing brought it down to... 4 features.  Wow.  Let's put the column sex_I back in there."
   ]
  },
  {
   "cell_type": "code",
   "execution_count": 51,
   "metadata": {},
   "outputs": [
    {
     "name": "stdout",
     "output_type": "stream",
     "text": [
      "0.49495226588\n",
      "[[ 1.          0.70439408]\n",
      " [ 0.70439408  1.        ]]\n"
     ]
    },
    {
     "data": {
      "image/png": "[encoded data removed]",
      "text/plain": [
       "<matplotlib.figure.Figure at 0x12d9c0b7fd0>"
      ]
     },
     "metadata": {},
     "output_type": "display_data"
    },
    {
     "data": {
      "text/plain": [
       "Index(['diameter', 'shucked weight', 'shell weight', 'rings', 'sex_I'], dtype='object')"
      ]
     },
     "execution_count": 51,
     "metadata": {},
     "output_type": "execute_result"
    }
   ],
   "source": [
    "df_R_I = pd.concat([df_R, dfd.sex_I], axis=1)\n",
    "\n",
    "y = df_R_I['rings']\n",
    "X = df_R_I.drop('rings', axis=1)\n",
    "\n",
    "X_train,X_test, y_train, y_test = train_test_split(X,y, test_size=0.3, random_state=0)\n",
    "\n",
    "regressor = DecisionTreeRegressor(max_depth=5, min_samples_split=35, min_samples_leaf=20, random_state=0)\n",
    "\n",
    "model = regressor.fit(X_train, y_train)\n",
    "score = model.score(X_test, y_test)\n",
    "print(score)\n",
    "print(np.corrcoef(model.predict(X_test), y_test))\n",
    "\n",
    "plt.scatter(model.predict(X_test), y_test)\n",
    "plt.suptitle('Predicted vs Actual')\n",
    "plt.xlabel('predicted')\n",
    "plt.ylabel('actual')\n",
    "plt.show()\n",
    "\n",
    "df_R_I.columns\n"
   ]
  },
  {
   "cell_type": "markdown",
   "metadata": {},
   "source": [
    "Nope.  Brought us down a bit.  But look!  I understand concatenation in pandas better.  Good job."
   ]
  },
  {
   "cell_type": "code",
   "execution_count": null,
   "metadata": {
    "collapsed": true
   },
   "outputs": [],
   "source": []
  }
 ],
 "metadata": {
  "kernelspec": {
   "display_name": "Python 3",
   "language": "python",
   "name": "python3"
  },
  "language_info": {
   "codemirror_mode": {
    "name": "ipython",
    "version": 3
   },
   "file_extension": ".py",
   "mimetype": "text/x-python",
   "name": "python",
   "nbconvert_exporter": "python",
   "pygments_lexer": "ipython3",
   "version": "3.6.1"
  }
 },
 "nbformat": 4,
 "nbformat_minor": 2
}
