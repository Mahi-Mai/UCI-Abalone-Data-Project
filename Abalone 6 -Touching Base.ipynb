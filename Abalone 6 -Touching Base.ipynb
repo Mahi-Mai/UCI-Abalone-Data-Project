{
 "cells": [
  {
   "cell_type": "markdown",
   "metadata": {},
   "source": [
    "# Gathering Thoughts\n",
    "\n",
    "Alright.  So far I haven't had much success, but the best results have been from Regression Trees.\n",
    "Additional things I want to try:\n",
    "\n",
    "Isomap on the 3D representation.\n",
    "\n",
    "Identifying and removing outliers.\n",
    "\n",
    "Charting predicted vs actual values.\n",
    "\n",
    "Redoing some of my earlier testing with correct train_test_split code.\n",
    "\n",
    "Examining literature to find out why this is considered a \"classfication\" problem.\n",
    "\n",
    "Make an artificial class/clustering system based on certain age ranges.  Perform some unsupervised clustering.  Maybe THAT'S why it's considered a classification problem... instead of predicting exact ages, we might just want relative age.\n",
    "\n",
    "Throw a NN at it?  Might not be enough samples."
   ]
  },
  {
   "cell_type": "markdown",
   "metadata": {},
   "source": [
    "Looking at my first notebook entry, \"exploration\", again I took a closer look at the correlation matrix I made.  It lists the correlation between \"rings\" and \"shell weight\" as 0.628, the highest for rings.  I'm ridiculous- that makes perfect sense.  The more rings, the more shell.  It makes sense that there would be a strongish correlation.  Not sure how much I can use that, though."
   ]
  },
  {
   "cell_type": "code",
   "execution_count": null,
   "metadata": {
    "collapsed": true
   },
   "outputs": [],
   "source": []
  }
 ],
 "metadata": {
  "kernelspec": {
   "display_name": "Python 3",
   "language": "python",
   "name": "python3"
  },
  "language_info": {
   "codemirror_mode": {
    "name": "ipython",
    "version": 3
   },
   "file_extension": ".py",
   "mimetype": "text/x-python",
   "name": "python",
   "nbconvert_exporter": "python",
   "pygments_lexer": "ipython3",
   "version": "3.6.1"
  }
 },
 "nbformat": 4,
 "nbformat_minor": 2
}
