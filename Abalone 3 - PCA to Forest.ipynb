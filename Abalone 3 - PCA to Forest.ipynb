{
 "cells": [
  {
   "cell_type": "markdown",
   "metadata": {},
   "source": [
    "Here's what's going down.  Imma test various component numbers and feed them to the forest.  I'll use a testing size of 0.2 and hope I'm not overfitting, and like 25 trees, turn off OOB for now because I hate the error messages."
   ]
  },
  {
   "cell_type": "code",
   "execution_count": 6,
   "metadata": {
    "collapsed": true
   },
   "outputs": [],
   "source": [
    "import pandas as pd\n",
    "import numpy as np\n",
    "import matplotlib.pyplot as plt\n",
    "from sklearn.ensemble import RandomForestClassifier\n",
    "from sklearn.model_selection import train_test_split\n",
    "\n",
    "from sklearn.decomposition import PCA\n",
    "from sklearn.preprocessing import StandardScaler\n",
    "\n",
    "%matplotlib inline\n",
    "\n",
    "#Create dataframe\n",
    "df = pd.read_csv('abalone.data')\n",
    "df.columns = ['sex','length','diameter','height','whole weight','shucked weight','viscera weight','shell weight','rings']\n",
    "\n",
    "#We have to get rid of the 'sex' column for now, PCA won't dig it.\n",
    "#df = pd.get_dummies(df, columns = ['sex'])\n",
    "df.drop('sex', axis=1, inplace=True)\n",
    "\n",
    "y = df['rings']\n",
    "X = df.drop('rings', axis=1)"
   ]
  },
  {
   "cell_type": "code",
   "execution_count": 2,
   "metadata": {
    "collapsed": true
   },
   "outputs": [],
   "source": [
    "#This one creates new training and testing sets each time.\n",
    "def forest1(X, y, tsize, numtrees, text=True):\n",
    "    X_train, X_test, y_train, y_test = train_test_split(X, y, test_size=tsize, random_state=0)\n",
    "    \n",
    "    model = RandomForestClassifier(n_estimators=numtrees, oob_score=False).fit(X_train,y_train)\n",
    "    score = model.score(X_test,y_test)\n",
    "\n",
    "    if text == True:\n",
    "        print('With testing size ' + str(tsize) + ' and forest size of ' + str(numtrees) +' score = '+ str(score))\n",
    "\n",
    "    return score"
   ]
  },
  {
   "cell_type": "code",
   "execution_count": null,
   "metadata": {
    "collapsed": true
   },
   "outputs": [],
   "source": [
    "#Creates and scores a model with given train/test sets\n",
    "def forest2(X_train, y_train, X_test, y_test):\n",
    "    model = RandomForestClassifier(n_estimators=25, oob_score=False).fit(X_train,y_train)\n",
    "    score = model.score(X_test,y_test)\n",
    "\n",
    "    return score"
   ]
  },
  {
   "cell_type": "code",
   "execution_count": 4,
   "metadata": {
    "collapsed": true
   },
   "outputs": [],
   "source": [
    "#scales and performs pca on prepared dataframe\n",
    "def scaled_pca(dataframe, components):\n",
    "    scaled = StandardScaler().fit_transform(dataframe)\n",
    "    pca = PCA(n_components=components, svd_solver='full')\n",
    "    x = pca.fit(scaled).transform(scaled)\n",
    "    return x"
   ]
  },
  {
   "cell_type": "code",
   "execution_count": 34,
   "metadata": {},
   "outputs": [
    {
     "data": {
      "image/png": "[encoded data removed]",
      "text/plain": [
       "<matplotlib.figure.Figure at 0x2b2b98ff908>"
      ]
     },
     "metadata": {},
     "output_type": "display_data"
    }
   ],
   "source": [
    "#explore possible variations\n",
    "#forest1(X, y, tsize, numtrees, text=True)\n",
    "\n",
    "num_components = list(range(2,9,1))\n",
    "scores = []\n",
    "count = 0\n",
    "\n",
    "#for testing component numbers from 7 to 2\n",
    "\n",
    "while count < 8:\n",
    "    for num in list(range(2,8,1)):\n",
    "        scaled = scaled_pca(X, num)\n",
    "        score = forest1(scaled, y, 0.2, 25, text=False)\n",
    "        scores.append(score)\n",
    "        count = count+1\n",
    "    else:\n",
    "        scaled = StandardScaler().fit_transform(X)\n",
    "        score = forest1(scaled, y, 0.2, 25, text=False)\n",
    "        scores.append(score)\n",
    "        break\n",
    "        \n",
    "plt.scatter(x=num_components, y=scores)\n",
    "plt.suptitle('Scores at various PCA component #')\n",
    "plt.xlabel('# components')\n",
    "plt.ylabel('score')\n",
    "plt.show()"
   ]
  },
  {
   "cell_type": "markdown",
   "metadata": {},
   "source": [
    "#Well that was unhelpful."
   ]
  },
  {
   "cell_type": "code",
   "execution_count": 39,
   "metadata": {},
   "outputs": [
    {
     "data": {
      "image/png": "[encoded data removed]",
      "text/plain": [
       "<matplotlib.figure.Figure at 0x2b2b98a5898>"
      ]
     },
     "metadata": {},
     "output_type": "display_data"
    }
   ],
   "source": [
    "#for testing PCA component numbers from 7 to 2, \n",
    "#and running each condition various times to observe\n",
    "#variation introduced from the unique testing/training sets.\n",
    "\n",
    "#Axes for plotting\n",
    "num_components = list(range(2,9,1))\n",
    "scores = []\n",
    "\n",
    "#loop control; count tests the various PCA conditions, \n",
    "#test controls sample size for each condition.\n",
    "count = 0\n",
    "test = 0\n",
    "\n",
    "while test <= 15:\n",
    "    while count < 8:\n",
    "        for num in list(range(2,8,1)):\n",
    "            scaled = scaled_pca(X, num)\n",
    "            score = forest1(scaled, y, 0.2, 25, text=False)\n",
    "            scores.append(score)\n",
    "            count = count+1\n",
    "        else:\n",
    "            scaled = StandardScaler().fit_transform(X)\n",
    "            score = forest1(scaled, y, 0.2, 25, text=False)\n",
    "            scores.append(score)\n",
    "            break\n",
    "       \n",
    "    plt.scatter(x=num_components, y=scores)\n",
    "    test = test+1 \n",
    "    count = 0\n",
    "    scores = []\n",
    "\n",
    "plt.suptitle('Scores at various PCA component #')\n",
    "plt.xlabel('# components')\n",
    "plt.ylabel('score')\n",
    "plt.show()"
   ]
  },
  {
   "cell_type": "markdown",
   "metadata": {},
   "source": [
    "Annoying, but interesting!  With a testing proportion of 0.20 and forest size of 25, X is scaled and run through PCA at various sizes.  Component #8 is not run through PCA, but still scaled.  Each component number condition was run 15 times to observe the variation produced by picking different training and testing sets.\n",
    "\n",
    "Does the variation mean there are outliers that are messing with the information?\n",
    "\n",
    "...does y need to be scaled?"
   ]
  },
  {
   "cell_type": "code",
   "execution_count": null,
   "metadata": {
    "collapsed": true
   },
   "outputs": [],
   "source": []
  }
 ],
 "metadata": {
  "kernelspec": {
   "display_name": "Python 3",
   "language": "python",
   "name": "python3"
  },
  "language_info": {
   "codemirror_mode": {
    "name": "ipython",
    "version": 3
   },
   "file_extension": ".py",
   "mimetype": "text/x-python",
   "name": "python",
   "nbconvert_exporter": "python",
   "pygments_lexer": "ipython3",
   "version": "3.6.1"
  }
 },
 "nbformat": 4,
 "nbformat_minor": 2
}
