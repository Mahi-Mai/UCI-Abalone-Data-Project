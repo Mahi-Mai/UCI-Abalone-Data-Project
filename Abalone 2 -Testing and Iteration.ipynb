{
 "cells": [
  {
   "cell_type": "markdown",
   "metadata": {},
   "source": [
    "# Random Forest Ensemble\n",
    "\n",
    "Try to create a model with Random Forest ensemble.  Consider PCA, investigate.\n",
    "\n",
    "Convert 'sex' column to booleans with get_dummies.  Split into testing and training sets."
   ]
  },
  {
   "cell_type": "code",
   "execution_count": 1,
   "metadata": {},
   "outputs": [
    {
     "name": "stdout",
     "output_type": "stream",
     "text": [
      "<class 'pandas.core.frame.DataFrame'>\n",
      "RangeIndex: 4176 entries, 0 to 4175\n",
      "Data columns (total 9 columns):\n",
      "sex               4176 non-null object\n",
      "length            4176 non-null float64\n",
      "diameter          4176 non-null float64\n",
      "height            4176 non-null float64\n",
      "whole weight      4176 non-null float64\n",
      "shucked weight    4176 non-null float64\n",
      "viscera weight    4176 non-null float64\n",
      "shell weight      4176 non-null float64\n",
      "rings             4176 non-null int64\n",
      "dtypes: float64(7), int64(1), object(1)\n",
      "memory usage: 293.7+ KB\n"
     ]
    }
   ],
   "source": [
    "import pandas as pd\n",
    "import numpy as np\n",
    "import matplotlib.pyplot as plt\n",
    "from sklearn.model_selection import train_test_split\n",
    "%matplotlib inline\n",
    "\n",
    "df = pd.read_csv('abalone.data')\n",
    "df.columns = ['sex','length','diameter','height','whole weight','shucked weight','viscera weight','shell weight','rings']\n",
    "df.info()"
   ]
  },
  {
   "cell_type": "code",
   "execution_count": 2,
   "metadata": {},
   "outputs": [
    {
     "data": {
      "text/html": [
       "<div>\n",
       "<style>\n",
       "    .dataframe thead tr:only-child th {\n",
       "        text-align: right;\n",
       "    }\n",
       "\n",
       "    .dataframe thead th {\n",
       "        text-align: left;\n",
       "    }\n",
       "\n",
       "    .dataframe tbody tr th {\n",
       "        vertical-align: top;\n",
       "    }\n",
       "</style>\n",
       "<table border=\"1\" class=\"dataframe\">\n",
       "  <thead>\n",
       "    <tr style=\"text-align: right;\">\n",
       "      <th></th>\n",
       "      <th>length</th>\n",
       "      <th>diameter</th>\n",
       "      <th>height</th>\n",
       "      <th>whole weight</th>\n",
       "      <th>shucked weight</th>\n",
       "      <th>viscera weight</th>\n",
       "      <th>shell weight</th>\n",
       "      <th>rings</th>\n",
       "      <th>sex_F</th>\n",
       "      <th>sex_I</th>\n",
       "      <th>sex_M</th>\n",
       "    </tr>\n",
       "  </thead>\n",
       "  <tbody>\n",
       "    <tr>\n",
       "      <th>0</th>\n",
       "      <td>0.350</td>\n",
       "      <td>0.265</td>\n",
       "      <td>0.090</td>\n",
       "      <td>0.2255</td>\n",
       "      <td>0.0995</td>\n",
       "      <td>0.0485</td>\n",
       "      <td>0.070</td>\n",
       "      <td>7</td>\n",
       "      <td>0</td>\n",
       "      <td>0</td>\n",
       "      <td>1</td>\n",
       "    </tr>\n",
       "    <tr>\n",
       "      <th>1</th>\n",
       "      <td>0.530</td>\n",
       "      <td>0.420</td>\n",
       "      <td>0.135</td>\n",
       "      <td>0.6770</td>\n",
       "      <td>0.2565</td>\n",
       "      <td>0.1415</td>\n",
       "      <td>0.210</td>\n",
       "      <td>9</td>\n",
       "      <td>1</td>\n",
       "      <td>0</td>\n",
       "      <td>0</td>\n",
       "    </tr>\n",
       "    <tr>\n",
       "      <th>2</th>\n",
       "      <td>0.440</td>\n",
       "      <td>0.365</td>\n",
       "      <td>0.125</td>\n",
       "      <td>0.5160</td>\n",
       "      <td>0.2155</td>\n",
       "      <td>0.1140</td>\n",
       "      <td>0.155</td>\n",
       "      <td>10</td>\n",
       "      <td>0</td>\n",
       "      <td>0</td>\n",
       "      <td>1</td>\n",
       "    </tr>\n",
       "    <tr>\n",
       "      <th>3</th>\n",
       "      <td>0.330</td>\n",
       "      <td>0.255</td>\n",
       "      <td>0.080</td>\n",
       "      <td>0.2050</td>\n",
       "      <td>0.0895</td>\n",
       "      <td>0.0395</td>\n",
       "      <td>0.055</td>\n",
       "      <td>7</td>\n",
       "      <td>0</td>\n",
       "      <td>1</td>\n",
       "      <td>0</td>\n",
       "    </tr>\n",
       "    <tr>\n",
       "      <th>4</th>\n",
       "      <td>0.425</td>\n",
       "      <td>0.300</td>\n",
       "      <td>0.095</td>\n",
       "      <td>0.3515</td>\n",
       "      <td>0.1410</td>\n",
       "      <td>0.0775</td>\n",
       "      <td>0.120</td>\n",
       "      <td>8</td>\n",
       "      <td>0</td>\n",
       "      <td>1</td>\n",
       "      <td>0</td>\n",
       "    </tr>\n",
       "  </tbody>\n",
       "</table>\n",
       "</div>"
      ],
      "text/plain": [
       "   length  diameter  height  whole weight  shucked weight  viscera weight  \\\n",
       "0   0.350     0.265   0.090        0.2255          0.0995          0.0485   \n",
       "1   0.530     0.420   0.135        0.6770          0.2565          0.1415   \n",
       "2   0.440     0.365   0.125        0.5160          0.2155          0.1140   \n",
       "3   0.330     0.255   0.080        0.2050          0.0895          0.0395   \n",
       "4   0.425     0.300   0.095        0.3515          0.1410          0.0775   \n",
       "\n",
       "   shell weight  rings  sex_F  sex_I  sex_M  \n",
       "0         0.070      7      0      0      1  \n",
       "1         0.210      9      1      0      0  \n",
       "2         0.155     10      0      0      1  \n",
       "3         0.055      7      0      1      0  \n",
       "4         0.120      8      0      1      0  "
      ]
     },
     "execution_count": 2,
     "metadata": {},
     "output_type": "execute_result"
    }
   ],
   "source": [
    "df = pd.get_dummies(df, columns = ['sex'])\n",
    "df.head()"
   ]
  },
  {
   "cell_type": "code",
   "execution_count": 3,
   "metadata": {
    "collapsed": true
   },
   "outputs": [],
   "source": [
    "y = df['rings']\n",
    "X = df.drop('rings', axis=1)\n",
    "\n",
    "X_train, X_test, y_train, y_test = train_test_split(X, y, test_size=0.2, random_state=0)"
   ]
  },
  {
   "cell_type": "code",
   "execution_count": 4,
   "metadata": {},
   "outputs": [
    {
     "data": {
      "text/plain": [
       "0.25119617224880381"
      ]
     },
     "execution_count": 4,
     "metadata": {},
     "output_type": "execute_result"
    }
   ],
   "source": [
    "from sklearn.ensemble import RandomForestClassifier\n",
    "\n",
    "model = RandomForestClassifier(n_estimators=30, oob_score=True).fit(X_train,y_train)\n",
    "\n",
    "model.score(X_test,y_test)"
   ]
  },
  {
   "cell_type": "code",
   "execution_count": 8,
   "metadata": {
    "collapsed": true
   },
   "outputs": [],
   "source": [
    "#Generate a model given parameters\n",
    "\n",
    "def forest(X, y, tsize, numtrees, text=True):\n",
    "    X_train, X_test, y_train, y_test = train_test_split(X, y, test_size=tsize, random_state=0)\n",
    "    model = RandomForestClassifier(n_estimators=numtrees, oob_score=False).fit(X_train,y_train)\n",
    "    score = model.score(X_test,y_test)\n",
    "    if text == True:\n",
    "        print('With testing proportion ' + str(tsize) + ' and forest size of ' + str(numtrees) +' score = '+ str(score))\n",
    "    return score"
   ]
  },
  {
   "cell_type": "code",
   "execution_count": 6,
   "metadata": {
    "scrolled": true
   },
   "outputs": [
    {
     "name": "stdout",
     "output_type": "stream",
     "text": [
      "With testing proportion 0.5 and forest size of 50 score = 0.253352490421\n"
     ]
    },
    {
     "data": {
      "text/plain": [
       "0.25335249042145591"
      ]
     },
     "execution_count": 6,
     "metadata": {},
     "output_type": "execute_result"
    }
   ],
   "source": [
    "forest(X,y,.50,50)"
   ]
  },
  {
   "cell_type": "markdown",
   "metadata": {
    "collapsed": true
   },
   "source": [
    "# Examine Variations"
   ]
  },
  {
   "cell_type": "code",
   "execution_count": 9,
   "metadata": {},
   "outputs": [
    {
     "data": {
      "image/png": "[encoded data removed]",
      "text/plain": [
       "<matplotlib.figure.Figure at 0x1ca12c4dcc0>"
      ]
     },
     "metadata": {},
     "output_type": "display_data"
    },
    {
     "data": {
      "image/png": "[encoded data removed]",
      "text/plain": [
       "<matplotlib.figure.Figure at 0x1ca062455c0>"
      ]
     },
     "metadata": {},
     "output_type": "display_data"
    },
    {
     "data": {
      "image/png": "[encoded data removed]",
      "text/plain": [
       "<matplotlib.figure.Figure at 0x1ca1410dd30>"
      ]
     },
     "metadata": {},
     "output_type": "display_data"
    },
    {
     "data": {
      "image/png": "[encoded data removed]",
      "text/plain": [
       "<matplotlib.figure.Figure at 0x1ca140ab470>"
      ]
     },
     "metadata": {},
     "output_type": "display_data"
    },
    {
     "data": {
      "image/png": "[encoded data removed]",
      "text/plain": [
       "<matplotlib.figure.Figure at 0x1ca12c536d8>"
      ]
     },
     "metadata": {},
     "output_type": "display_data"
    }
   ],
   "source": [
    "#explore possible variations\n",
    "\n",
    "#for the loop\n",
    "temp_scores = []\n",
    "\n",
    "trees = list(range(5,105,5))\n",
    "test_sizes = [.5,.4,.3,.2,.1]\n",
    "\n",
    "#for each proportion of testing size, test a set of forest sizes, plot it\n",
    "for test_size in test_sizes:\n",
    "    for tree_num in trees:\n",
    "        score = forest(X, y, test_size, tree_num, text = False)\n",
    "        temp_scores.append(score)\n",
    "    title = 'Scores at test proportion of ' + str(test_size)\n",
    "    plt.scatter(x=trees, y=temp_scores)\n",
    "    plt.suptitle(title)\n",
    "    plt.xlabel('num trees')\n",
    "    plt.ylabel('score')\n",
    "    plt.show()\n",
    "    temp_scores = []"
   ]
  },
  {
   "cell_type": "code",
   "execution_count": 10,
   "metadata": {},
   "outputs": [
    {
     "name": "stdout",
     "output_type": "stream",
     "text": [
      "Testing proportion of 0.5 had a mean score of 0.24676724137931036\n",
      "\n",
      "\n",
      "Testing proportion of 0.4 had a mean score of 0.2421903052064632\n",
      "\n",
      "\n",
      "Testing proportion of 0.3 had a mean score of 0.24521149241819637\n",
      "\n",
      "\n",
      "Testing proportion of 0.2 had a mean score of 0.2557416267942584\n",
      "\n",
      "\n",
      "Testing proportion of 0.1 had a mean score of 0.24976076555023924\n",
      "\n",
      "\n"
     ]
    }
   ],
   "source": [
    "#Again, but put it all in a dataframe\n",
    "\n",
    "all_scores = []\n",
    "\n",
    "trees = list(range(5,105,5))\n",
    "test_sizes = [.5,.4,.3,.2,.1]\n",
    "\n",
    "for test_size in test_sizes:\n",
    "    for tree_num in trees:\n",
    "        score = forest(X, y, test_size, tree_num, text = False)\n",
    "        all_scores.append([test_size, tree_num, score])\n",
    "\n",
    "all_scoresDF = pd.DataFrame(all_scores, columns = ['testing size','num trees', 'score'])\n",
    "\n",
    "#is there a test proportion with consistently better scores?\n",
    "\n",
    "tprop = all_scoresDF['testing size'].unique()\n",
    "\n",
    "for size in tprop:\n",
    "    boo = all_scoresDF['testing size'] == size\n",
    "    temp = all_scoresDF[boo]\n",
    "    mean = temp['score'].mean()\n",
    "    print('Testing proportion of ' + str(size) + ' had a mean score of ' + str(mean))\n",
    "    print('\\n')"
   ]
  },
  {
   "cell_type": "code",
   "execution_count": null,
   "metadata": {
    "collapsed": true
   },
   "outputs": [],
   "source": []
  }
 ],
 "metadata": {
  "kernelspec": {
   "display_name": "Python 3",
   "language": "python",
   "name": "python3"
  },
  "language_info": {
   "codemirror_mode": {
    "name": "ipython",
    "version": 3
   },
   "file_extension": ".py",
   "mimetype": "text/x-python",
   "name": "python",
   "nbconvert_exporter": "python",
   "pygments_lexer": "ipython3",
   "version": "3.6.1"
  }
 },
 "nbformat": 4,
 "nbformat_minor": 2
}
