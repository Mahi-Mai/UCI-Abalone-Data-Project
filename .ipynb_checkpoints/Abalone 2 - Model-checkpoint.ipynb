{
 "cells": [
  {
   "cell_type": "markdown",
   "metadata": {},
   "source": [
    "# Refined Approach\n",
    "\n",
    "After numerous mis-steps and false assumptions, I should have a functional model.\n",
    "\n",
    "Since the rings are binned, they are considered categorical, which means we can use classification algorithms.  See:  SVM, ensemble forest.  Re-test the latter with corrected train test split algorithm and cleaner testing functions."
   ]
  },
  {
   "cell_type": "code",
   "execution_count": 8,
   "metadata": {
    "collapsed": true
   },
   "outputs": [],
   "source": [
    "import pandas as pd\n",
    "import numpy as np\n",
    "import matplotlib.pyplot as plt\n",
    "from sklearn.ensemble import RandomForestClassifier\n",
    "from sklearn.model_selection import train_test_split\n",
    "\n",
    "from sklearn.decomposition import PCA\n",
    "from sklearn.preprocessing import StandardScaler\n",
    "\n",
    "%matplotlib inline\n",
    "\n",
    "#Create dataframe\n",
    "df = pd.read_csv('abalone.data')\n",
    "df.columns = ['sex','length','diameter','height','whole weight','shucked weight','viscera weight','shell weight','rings']\n",
    "\n",
    "#Convert 'sex' column to booleans.\n",
    "df = pd.get_dummies(df, columns = ['sex'])\n",
    "\n",
    "#Traditional testing/training set sources.\n",
    "y = df['rings']\n",
    "X = df.drop('rings', axis=1)"
   ]
  },
  {
   "cell_type": "code",
   "execution_count": 28,
   "metadata": {},
   "outputs": [
    {
     "name": "stdout",
     "output_type": "stream",
     "text": [
      "   length  diameter  height  whole weight  shucked weight  viscera weight  \\\n",
      "0   0.350     0.265   0.090        0.2255          0.0995          0.0485   \n",
      "1   0.530     0.420   0.135        0.6770          0.2565          0.1415   \n",
      "2   0.440     0.365   0.125        0.5160          0.2155          0.1140   \n",
      "3   0.330     0.255   0.080        0.2050          0.0895          0.0395   \n",
      "4   0.425     0.300   0.095        0.3515          0.1410          0.0775   \n",
      "\n",
      "   shell weight  rings  sex_F  sex_I  sex_M  \n",
      "0         0.070      7      0      0      1  \n",
      "1         0.210      9      1      0      0  \n",
      "2         0.155     10      0      0      1  \n",
      "3         0.055      7      0      1      0  \n",
      "4         0.120      8      0      1      0  \n",
      "===========================================\n",
      "0     7\n",
      "1     9\n",
      "2    10\n",
      "3     7\n",
      "4     8\n",
      "Name: rings, dtype: int64\n",
      "===========================================\n",
      "   length  diameter  height  whole weight  shucked weight  viscera weight  \\\n",
      "0   0.350     0.265   0.090        0.2255          0.0995          0.0485   \n",
      "1   0.530     0.420   0.135        0.6770          0.2565          0.1415   \n",
      "2   0.440     0.365   0.125        0.5160          0.2155          0.1140   \n",
      "3   0.330     0.255   0.080        0.2050          0.0895          0.0395   \n",
      "4   0.425     0.300   0.095        0.3515          0.1410          0.0775   \n",
      "\n",
      "   shell weight  sex_F  sex_I  sex_M  \n",
      "0         0.070      0      0      1  \n",
      "1         0.210      1      0      0  \n",
      "2         0.155      0      0      1  \n",
      "3         0.055      0      1      0  \n",
      "4         0.120      0      1      0  \n"
     ]
    }
   ],
   "source": [
    "#Making sure my frames are what they're supposed to be.\n",
    "\n",
    "print(df.head(5))\n",
    "print('===========================================')\n",
    "print(y.head(5))\n",
    "print('===========================================')\n",
    "print(X.head(5))"
   ]
  },
  {
   "cell_type": "code",
   "execution_count": 9,
   "metadata": {},
   "outputs": [
    {
     "data": {
      "text/plain": [
       "0.24043062200956938"
      ]
     },
     "execution_count": 9,
     "metadata": {},
     "output_type": "execute_result"
    }
   ],
   "source": [
    "#Retesting random forest with frames as-is.\n",
    "\n",
    "X_train, X_test, y_train, y_test = train_test_split(X, y, test_size=0.2, random_state=0)\n",
    "\n",
    "model = RandomForestClassifier(n_estimators=30, oob_score=True).fit(X_train,y_train)\n",
    "\n",
    "model.score(X_test,y_test)"
   ]
  },
  {
   "cell_type": "code",
   "execution_count": 10,
   "metadata": {},
   "outputs": [
    {
     "data": {
      "image/png": "[encoded data removed]",
      "text/plain": [
       "<matplotlib.figure.Figure at 0x17d0d7c0438>"
      ]
     },
     "metadata": {},
     "output_type": "display_data"
    }
   ],
   "source": [
    "#Plotting predicted vs actual\n",
    "\n",
    "plt.scatter(model.predict(X_test), y_test)\n",
    "plt.xlabel('predicted value')\n",
    "plt.ylabel('actual value')\n",
    "plt.show()"
   ]
  },
  {
   "cell_type": "code",
   "execution_count": 16,
   "metadata": {
    "collapsed": true
   },
   "outputs": [],
   "source": [
    "#NO SCALING.\n",
    "#Perform PCA on whole dataframe.  Copy of Rings column still set aside as y.\n",
    "#Resulting PCA models will be new Xs.\n",
    "#Testing PCA component levels of 2 and 3.\n",
    "\n",
    "pca2 = PCA(n_components=2, svd_solver='full')\n",
    "pca3 = PCA(n_components=3, svd_solver='full')\n",
    "\n",
    "X2 = pca2.fit(df).transform(df)\n",
    "X3 = pca3.fit(df).transform(df)"
   ]
  },
  {
   "cell_type": "code",
   "execution_count": 18,
   "metadata": {},
   "outputs": [
    {
     "name": "stdout",
     "output_type": "stream",
     "text": [
      "0.985645933014\n"
     ]
    },
    {
     "data": {
      "image/png": "[encoded data removed]",
      "text/plain": [
       "<matplotlib.figure.Figure at 0x17d16ce6fd0>"
      ]
     },
     "metadata": {},
     "output_type": "display_data"
    }
   ],
   "source": [
    "#X2\n",
    "\n",
    "X_train, X_test, y_train, y_test = train_test_split(X2, y, test_size=0.2, random_state=0)\n",
    "\n",
    "model2 = RandomForestClassifier(n_estimators=30, oob_score=True).fit(X_train,y_train)\n",
    "\n",
    "print(model2.score(X_test,y_test))\n",
    "\n",
    "plt.scatter(model2.predict(X_test), y_test)\n",
    "plt.xlabel('predicted value')\n",
    "plt.ylabel('actual value')\n",
    "plt.show()"
   ]
  },
  {
   "cell_type": "code",
   "execution_count": 19,
   "metadata": {},
   "outputs": [
    {
     "name": "stdout",
     "output_type": "stream",
     "text": [
      "0.959330143541\n"
     ]
    },
    {
     "data": {
      "image/png": "[encoded data removed]",
      "text/plain": [
       "<matplotlib.figure.Figure at 0x17d187b7e48>"
      ]
     },
     "metadata": {},
     "output_type": "display_data"
    }
   ],
   "source": [
    "#X3\n",
    "\n",
    "X_train, X_test, y_train, y_test = train_test_split(X3, y, test_size=0.2, random_state=0)\n",
    "\n",
    "model3 = RandomForestClassifier(n_estimators=30, oob_score=True).fit(X_train,y_train)\n",
    "\n",
    "print(model3.score(X_test,y_test))\n",
    "\n",
    "plt.scatter(model3.predict(X_test), y_test)\n",
    "plt.xlabel('predicted value')\n",
    "plt.ylabel('actual value')\n",
    "plt.show()"
   ]
  },
  {
   "cell_type": "code",
   "execution_count": 20,
   "metadata": {},
   "outputs": [
    {
     "name": "stdout",
     "output_type": "stream",
     "text": [
      "0.376794258373\n"
     ]
    },
    {
     "data": {
      "image/png": "[encoded data removed]",
      "text/plain": [
       "<matplotlib.figure.Figure at 0x17d187b10b8>"
      ]
     },
     "metadata": {},
     "output_type": "display_data"
    }
   ],
   "source": [
    "#Effects of scaling\n",
    "\n",
    "scaled = StandardScaler().fit_transform(df)\n",
    "\n",
    "pca2_scaled = PCA(n_components=2, svd_solver='full')\n",
    "X2_scaled = pca2_scaled.fit(scaled).transform(scaled)\n",
    "\n",
    "X_train, X_test, y_train, y_test = train_test_split(X2_scaled, y, test_size=0.2, random_state=0)\n",
    "\n",
    "model_scaled = RandomForestClassifier(n_estimators=30, oob_score=True).fit(X_train,y_train)\n",
    "\n",
    "print(model_scaled.score(X_test,y_test))\n",
    "\n",
    "plt.scatter(model_scaled.predict(X_test), y_test)\n",
    "plt.xlabel('predicted value')\n",
    "plt.ylabel('actual value')\n",
    "plt.show()"
   ]
  },
  {
   "cell_type": "markdown",
   "metadata": {},
   "source": [
    "I'm either using scaling wrong or never needed it to begin with.  To think I was shooting myself in the foot the whole time."
   ]
  },
  {
   "cell_type": "code",
   "execution_count": null,
   "metadata": {
    "collapsed": true
   },
   "outputs": [],
   "source": []
  }
 ],
 "metadata": {
  "kernelspec": {
   "display_name": "Python 3",
   "language": "python",
   "name": "python3"
  },
  "language_info": {
   "codemirror_mode": {
    "name": "ipython",
    "version": 3
   },
   "file_extension": ".py",
   "mimetype": "text/x-python",
   "name": "python",
   "nbconvert_exporter": "python",
   "pygments_lexer": "ipython3",
   "version": "3.6.1"
  }
 },
 "nbformat": 4,
 "nbformat_minor": 2
}
