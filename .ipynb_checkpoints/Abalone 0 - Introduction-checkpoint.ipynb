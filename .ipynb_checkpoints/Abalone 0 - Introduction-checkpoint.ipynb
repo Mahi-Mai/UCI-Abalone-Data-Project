{
 "cells": [
  {
   "cell_type": "markdown",
   "metadata": {},
   "source": [
    "# Project Approach\n",
    "\n",
    "**Selection Factors**\n",
    "*  Short timeframe\n",
    "*  \"Simple,\" well defined problem in a subject area of interest.\n",
    "*  Test and apply learned skillset.<br>\n",
    "\n",
    "**Approach**<br>\n",
    "First do some domain research, examine data/descriptive statistics.\n",
    "\n",
    "1. Select and test approach\n",
    "2. Check assumptions\n",
    "3. Modify approach\n",
    "4. Repeat\n",
    "\n",
    "**Chosen Subject**<br>\n",
    "A dataset originally collected for a population study on Abalone, now used as a machine learning test case on the UCI Machine Learning Repository. (see: https://archive.ics.uci.edu/ml/datasets/Abalone)\n",
    "\n",
    "\"The Population Biology of Abalone (_Haliotis_ species) in Tasmania. I. Blacklip Abalone (_H. rubra_) from the North Coast and Islands of Bass Strait\" - Warwick J Nash, Tracy L Sellers, Simon R Talbot, Andrew J Cawthorn and Wes B Ford (1994) \n",
    "\n",
    "Relatively few features(8), especially compared to number of samples (4177).  Clearly listed as a classification problem.  Despite this I initially treated age/ring number as a continuous value, because I wanted to see how much I could discover on my own.  Obviously reading the subject page more closely would've saved me some work and frustration, but I did experiment with some interesting investigation methods, in the end."
   ]
  },
  {
   "attachments": {},
   "cell_type": "markdown",
   "metadata": {},
   "source": [
    "**SUBJECT BACKGROUND**\n",
    "\n",
    "![Abalone_at_California_Academy_of_Sciences.png](https://upload.wikimedia.org/wikipedia/commons/thumb/b/bc/Abalone_at_California_Academy_of_Sciences.JPG/1200px-Abalone_at_California_Academy_of_Sciences.JPG)\n",
    "![abalone%20farming.jpg](http://culturedabalone.com/wp-content/uploads/2014/06/D24531-e1405448523444.jpg)\n",
    "![shell.jpg](https://cdn3.volusion.com/fotn6.e2u42/v/vspfiles/photos/ABLN01-2.jpg?1349616520)\n",
    "\n",
    "Abalone is a commercially important mollusc in the genus *Haliotis* consumed for food around the world.  The elegant, mother-of-pearl shells are often used for crafting.  Several species are endangered due to overfishing and climate change.\n",
    "\n",
    "*SOURCES*<br>\n",
    "https://en.wikipedia.org/wiki/Abalone <br>\n",
    "http://culturedabalone.com/<br>\n",
    "https://www.omimports.com/Abalone_Shell_p/abln02.htm\n",
    "\n",
    "**Original goal**: Determine a relationship between listed features and age of organism.  Typically is determined by number of layers or \"rings\" in the shell, but this is cumbersome and obnoxious.  Personally speaking, I think a good model would help with monitoring farmed populations and conservation efforts."
   ]
  },
  {
   "cell_type": "code",
   "execution_count": null,
   "metadata": {
    "collapsed": true
   },
   "outputs": [],
   "source": []
  }
 ],
 "metadata": {
  "kernelspec": {
   "display_name": "Python 3",
   "language": "python",
   "name": "python3"
  },
  "language_info": {
   "codemirror_mode": {
    "name": "ipython",
    "version": 3
   },
   "file_extension": ".py",
   "mimetype": "text/x-python",
   "name": "python",
   "nbconvert_exporter": "python",
   "pygments_lexer": "ipython3",
   "version": "3.6.1"
  }
 },
 "nbformat": 4,
 "nbformat_minor": 2
}
