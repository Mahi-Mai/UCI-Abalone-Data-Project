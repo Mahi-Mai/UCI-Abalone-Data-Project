{
 "cells": [
  {
   "cell_type": "markdown",
   "metadata": {},
   "source": [
    "# Currently\n",
    "\n",
    "Random forest doesn't appear to be doing the job.\n",
    "\n",
    "**Questions**<br>\n",
    "* Should I be performing PCA on ALL the data?  Is feature reduction even necessary for the model?\n",
    "* Is a regular sklearn module going to cut it?\n",
    "* How concerned should I be with the outliers?\n",
    "\n",
    "**Next Steps** <br>\n",
    "* Answer questions.\n",
    "* Test different sklearn modules anyway, specifically KNN, KMeans, and SVC.\n",
    "* Study and attempt to apply neural network packages.\n",
    "* Examine given papers on source page."
   ]
  },
  {
   "cell_type": "code",
   "execution_count": null,
   "metadata": {
    "collapsed": true
   },
   "outputs": [],
   "source": []
  }
 ],
 "metadata": {
  "kernelspec": {
   "display_name": "Python 3",
   "language": "python",
   "name": "python3"
  },
  "language_info": {
   "codemirror_mode": {
    "name": "ipython",
    "version": 3
   },
   "file_extension": ".py",
   "mimetype": "text/x-python",
   "name": "python",
   "nbconvert_exporter": "python",
   "pygments_lexer": "ipython3",
   "version": "3.6.1"
  }
 },
 "nbformat": 4,
 "nbformat_minor": 2
}
